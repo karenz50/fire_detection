{
  "nbformat": 4,
  "nbformat_minor": 0,
  "metadata": {
    "colab": {
      "provenance": []
    },
    "kernelspec": {
      "name": "python3",
      "display_name": "Python 3"
    },
    "language_info": {
      "name": "python"
    }
  },
  "cells": [
    {
      "cell_type": "code",
      "execution_count": null,
      "metadata": {
        "colab": {
          "base_uri": "https://localhost:8080/"
        },
        "id": "mF3TN58RCeOO",
        "outputId": "4fd27cf3-57a6-4eb5-e265-48af79ae1470"
      },
      "outputs": [
        {
          "output_type": "stream",
          "name": "stdout",
          "text": [
            "2.9.2\n"
          ]
        }
      ],
      "source": [
        "import tensorflow as tf\n",
        "print(tf.__version__)"
      ]
    },
    {
      "cell_type": "code",
      "source": [
        "from tensorflow.keras.models import Sequential\n",
        "from tensorflow.keras.layers import BatchNormalization\n",
        "from tensorflow.keras.layers import SeparableConv2D\n",
        "from tensorflow.keras.layers import MaxPooling2D\n",
        "from tensorflow.keras.layers import Activation\n",
        "from tensorflow.keras.layers import Flatten\n",
        "from tensorflow.keras.layers import Dropout\n",
        "from tensorflow.keras.layers import Dense\n",
        "\n",
        "class FireDetectionNet:\n",
        "\t@staticmethod\n",
        "\n",
        "\tdef build(width, height, depth, classes):\n",
        "\t\n",
        "\t\tmodel = Sequential()\n",
        "\t\tinputShape = (height, width, depth)\n",
        "\t\tchanDim = -1\n",
        "\n",
        "\t\tmodel.add(SeparableConv2D(16, (7, 7), padding=\"same\",\n",
        "\t\t\tinput_shape=inputShape))\n",
        "\t\tmodel.add(Activation(\"relu\"))\n",
        "\t\tmodel.add(BatchNormalization(axis=chanDim))\n",
        "\t\tmodel.add(MaxPooling2D(pool_size=(2, 2)))\n",
        "\n",
        "\t\tmodel.add(SeparableConv2D(32, (3, 3), padding=\"same\"))\n",
        "\t\tmodel.add(Activation(\"relu\"))\n",
        "\t\tmodel.add(BatchNormalization(axis=chanDim))\n",
        "\t\tmodel.add(MaxPooling2D(pool_size=(2, 2)))\n",
        "  \n",
        "\t\tmodel.add(SeparableConv2D(64, (3, 3), padding=\"same\"))\n",
        "\t\tmodel.add(Activation(\"relu\"))\n",
        "\t\tmodel.add(BatchNormalization(axis=chanDim))\n",
        "\t\tmodel.add(SeparableConv2D(64, (3, 3), padding=\"same\"))\n",
        "\t\tmodel.add(Activation(\"relu\"))\n",
        "\t\tmodel.add(BatchNormalization(axis=chanDim))\n",
        "\t\tmodel.add(MaxPooling2D(pool_size=(2, 2)))\n",
        "\n",
        "\t\tmodel.add(Flatten())\n",
        "\t\tmodel.add(Dense(128))\n",
        "\t\tmodel.add(Activation(\"relu\"))\n",
        "\t\tmodel.add(BatchNormalization())\n",
        "\t\tmodel.add(Dropout(0.3))\n",
        "\t\n",
        "\t\tmodel.add(Dense(classes))\n",
        "\t\tmodel.add(Activation(\"softmax\"))\n",
        "\t\n",
        "\t\treturn model"
      ],
      "metadata": {
        "id": "tuHUxYYMCqb_"
      },
      "execution_count": null,
      "outputs": []
    },
    {
      "cell_type": "code",
      "source": [
        "from google.colab import drive\n",
        "drive.mount('/content/drive')"
      ],
      "metadata": {
        "id": "3X9feGVLHRMX"
      },
      "execution_count": null,
      "outputs": []
    },
    {
      "cell_type": "code",
      "source": [
        "FIRE_PATH = '/content/drive/My Drive/fire_detection/Fire Dataset'\n",
        "NON_FIRE_PATH = '/content/drive/My Drive/fire_detection/Non-Fire Dataset'\n",
        "\n",
        "CLASSES = [\"Fire\", \"Non-Fire\"]\n",
        "\n",
        "TRAIN_SPLIT = 0.75\n",
        "TEST_SPLIT = 0.25\n",
        "\n",
        "INIT_LR = 1e-3\n",
        "BATCH_SIZE = 32\n",
        "NUM_EPOCHS = 120\n",
        "\n",
        "SAMPLE_SIZE = 50"
      ],
      "metadata": {
        "id": "G2CoY4nfCz4p"
      },
      "execution_count": null,
      "outputs": []
    },
    {
      "cell_type": "code",
      "source": [
        "from tensorflow.keras.preprocessing.image import ImageDataGenerator\n",
        "from tensorflow.keras.optimizers import Adam\n",
        "from tensorflow.keras.utils import to_categorical\n",
        "from sklearn.model_selection import train_test_split\n",
        "from sklearn.metrics import classification_report\n",
        "from imutils import paths\n",
        "import matplotlib\n",
        "import matplotlib.pyplot as plt\n",
        "import numpy as np\n",
        "import argparse\n",
        "import cv2\n",
        "import sys\n",
        "\n",
        "def load_dataset(dataset_path):\n",
        "\n",
        "  image_paths = list(paths.list_images(dataset_path))\n",
        "  image_data = []\n",
        "\n",
        "  for image_path in image_paths:\n",
        "    \n",
        "    try:\n",
        "      cur_image = cv2.imread(image_path)\n",
        "      cur_image = cv2.resize(cur_image, (128, 128))\n",
        "      cur_image = cv2.cvtColor(image, cv2.COLOR_BGR2RGB)\n",
        "    except:\n",
        "      break\n",
        "\n",
        "    image_data.append(cur_image)\n",
        "\n",
        "  return np.array(image_data, dtype=\"float32\")\n",
        "\n",
        "print(\"[INFO] loading fire data...\")\n",
        "fire_data = load_dataset(FIRE_PATH)\n",
        "print(\"[INFO] loading non-fire data...\")\n",
        "non_fire_data = load_dataset(NON_FIRE_PATH)\n",
        "print(\"[INFO] Complete!\")"
      ],
      "metadata": {
        "id": "-ViQDvyeQsOA"
      },
      "execution_count": null,
      "outputs": []
    },
    {
      "cell_type": "code",
      "source": [
        "fire_labels = np.ones((fire_data.shape[0],))\n",
        "non_fire_labels = np.zeros((non_fire_data.shape[0],))"
      ],
      "metadata": {
        "id": "5MT9YMm5EFZY"
      },
      "execution_count": null,
      "outputs": []
    },
    {
      "cell_type": "code",
      "source": [
        "image_data = np.vstack([fire_data, non_fire_data])\n",
        "labels = np.hstack([fire_labels, non_fire_labels])"
      ],
      "metadata": {
        "id": "uM5gKVXjEYU8"
      },
      "execution_count": null,
      "outputs": []
    },
    {
      "cell_type": "code",
      "source": [
        "image_data /= 255\n",
        "labels = to_categorical(labels, num_classes=2)\n",
        "class_totals = labels.sum(axis=0)\n",
        "classWeight = classTotals.max() / classTotals\n",
        "classWeight = {i : classWeight[i] for i in range(len(classWeight))}"
      ],
      "metadata": {
        "id": "rL5G0dTkkTzU"
      },
      "execution_count": null,
      "outputs": []
    },
    {
      "cell_type": "code",
      "source": [
        "print(classWeight)\n",
        "print(type(classWeight))\n",
        "print(len(classWeight))"
      ],
      "metadata": {
        "id": "-bfFp4cYPkLC"
      },
      "execution_count": null,
      "outputs": []
    },
    {
      "cell_type": "code",
      "source": [
        "(trainX, testX, trainY, testY) = train_test_split(data, labels,test_size= TEST_SPLIT, random_state=42)"
      ],
      "metadata": {
        "id": "PuXkuFL-Pnoq"
      },
      "execution_count": null,
      "outputs": []
    },
    {
      "cell_type": "code",
      "source": [
        "print(trainX.shape)\n",
        "print(trainY.shape)\n",
        "print(testX.shape)\n",
        "print(testY.shape)"
      ],
      "metadata": {
        "id": "OJE7PqReZZMf"
      },
      "execution_count": null,
      "outputs": []
    },
    {
      "cell_type": "code",
      "source": [
        "%matplotlib inline\n",
        "plt.figure()\n",
        "plt.imshow(trainX[1])\n",
        "plt.colorbar()\n",
        "plt.grid(False)\n",
        "plt.show()"
      ],
      "metadata": {
        "id": "UJENhOaPgWkq"
      },
      "execution_count": null,
      "outputs": []
    },
    {
      "cell_type": "code",
      "source": [
        "from tensorflow import keras\n",
        "aug = ImageDataGenerator(\n",
        "\trotation_range=30,\n",
        "\tzoom_range=0.15,\n",
        "\twidth_shift_range=0.2,\n",
        "\theight_shift_range=0.2,\n",
        "\tshear_range=0.15,\n",
        "\thorizontal_flip=True,\n",
        "\tfill_mode=\"nearest\")\n",
        "\n",
        "print(\"Compiling model...\")\n",
        "opt = keras.optimizers.Adam(learning_rate=INIT_LR)\n",
        "model = FireDetectionNet.build(width=128, height=128, depth=3, classes=2)\n",
        "model.compile(loss=\"binary_crossentropy\", optimizer=opt, metrics=[\"accuracy\"])\n",
        "\n",
        "print(\"Training network...\")\n",
        "\n",
        "H = model.fit(aug.flow(trainX, trainY, batch_size= BATCH_SIZE),\t\n",
        "    \t\t\t\t\tvalidation_data=(testX, testY), \n",
        "\t\t\t\t\t\t\tsteps_per_epoch=trainX.shape[0] // BATCH_SIZE,\n",
        "\t\t\t\t\t\t\tepochs= NUM_EPOCHS, \n",
        "\t\t\t\t\t\t\tclass_weight=classWeight,\n",
        "\t\t\t\t\t\t\tverbose=1, \n",
        "\t\t\t\t\t\t\tshuffle=True)"
      ],
      "metadata": {
        "id": "cIjbm-QgZk34"
      },
      "execution_count": null,
      "outputs": []
    },
    {
      "cell_type": "code",
      "source": [
        "%matplotlib inline\n",
        "\n",
        "import matplotlib.pyplot as plt\n",
        "import numpy as np\n",
        "\n",
        "N = np.arange(0,  NUM_EPOCHS)\n",
        "plt.style.use(\"ggplot\")\n",
        "fig = plt.figure()\n",
        "plt.plot(N, H.history[\"loss\"], label=\"train_loss\")\n",
        "plt.plot(N, H.history[\"val_loss\"], label=\"val_loss\")\n",
        "plt.plot(N, H.history[\"accuracy\"], label=\"train_acc\")\n",
        "plt.plot(N, H.history[\"val_accuracy\"], label=\"val_acc\")\n",
        "plt.title(\"Training Loss and Accuracy\")\n",
        "plt.xlabel(\"Epoch #\")\n",
        "plt.ylabel(\"Loss/Accuracy\")\n",
        "plt.legend(loc=\"lower left\")"
      ],
      "metadata": {
        "id": "7VLlskTiPxeZ"
      },
      "execution_count": null,
      "outputs": []
    },
    {
      "cell_type": "code",
      "source": [
        "print(predictions.shape)\n",
        "print(predictions[:1])"
      ],
      "metadata": {
        "id": "nuk_49hTkjjj"
      },
      "execution_count": null,
      "outputs": []
    },
    {
      "cell_type": "code",
      "source": [
        "plt.figure(figsize=(10,10))\n",
        "for i in range(25):\n",
        "    plt.subplot(5,5,i+1)\n",
        "    plt.xticks([])\n",
        "    plt.yticks([])\n",
        "    plt.grid(False)\n",
        "    plt.imshow(testX[i], cmap=plt.cm.binary)\n",
        "    if testY[i][0] == 1:\n",
        "      if predictions[i][0] > 0.5:\n",
        "        plt.xlabel(\"Non-Fire\", color='green')\n",
        "      else:\n",
        "        plt.xlabel(\"Non-Fire\", color='red')\n",
        "    else:\n",
        "      if predictions[i][1] > 0.5:\n",
        "        plt.xlabel(\"Fire\", color='green')\n",
        "      else:\n",
        "        plt.xlabel(\"Fire\", color='red')\n",
        "\n",
        "plt.show()"
      ],
      "metadata": {
        "id": "f9gRE-DgkkRD"
      },
      "execution_count": null,
      "outputs": []
    },
    {
      "cell_type": "code",
      "source": [
        "MODEL_PATH = '/content/drive/My Drive/fire_detection/fire_data'\n",
        "model.save(MODEL_PATH)"
      ],
      "metadata": {
        "id": "eZAbzFUUdFGE"
      },
      "execution_count": null,
      "outputs": []
    },
    {
      "cell_type": "code",
      "source": [
        "model.summary()"
      ],
      "metadata": {
        "id": "ZifvNfNudmvZ"
      },
      "execution_count": null,
      "outputs": []
    },
    {
      "cell_type": "code",
      "source": [
        "model.save(\"/content/drive/My Drive/fire_detection/fire_model.h5\")\n",
        "print(\"Saved model to drive\")"
      ],
      "metadata": {
        "id": "7Fgfk1Mrdq8X"
      },
      "execution_count": null,
      "outputs": []
    }
  ]
}