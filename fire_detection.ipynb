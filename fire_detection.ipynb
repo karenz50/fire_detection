{
  "nbformat": 4,
  "nbformat_minor": 0,
  "metadata": {
    "colab": {
      "provenance": []
    },
    "kernelspec": {
      "name": "python3",
      "display_name": "Python 3"
    },
    "language_info": {
      "name": "python"
    }
  },
  "cells": [
    {
      "cell_type": "code",
      "execution_count": 1,
      "metadata": {
        "colab": {
          "base_uri": "https://localhost:8080/"
        },
        "id": "mF3TN58RCeOO",
        "outputId": "c106c19d-56af-4de7-8359-297e201cb3ce"
      },
      "outputs": [
        {
          "output_type": "stream",
          "name": "stdout",
          "text": [
            "2.9.2\n",
            "\n"
          ]
        }
      ],
      "source": [
        "import tensorflow as tf\n",
        "print(tf.__version__)\n",
        "print(tf.test.gpu_device_name())"
      ]
    },
    {
      "cell_type": "code",
      "source": [
        "from tensorflow.keras.models import Sequential\n",
        "from tensorflow.keras.layers import BatchNormalization\n",
        "from tensorflow.keras.layers import SeparableConv2D\n",
        "from tensorflow.keras.layers import MaxPooling2D\n",
        "from tensorflow.keras.layers import Activation\n",
        "from tensorflow.keras.layers import Flatten\n",
        "from tensorflow.keras.layers import Dropout\n",
        "from tensorflow.keras.layers import Dense\n",
        "\n",
        "class FireDetection:\n",
        "\t@staticmethod\n",
        "\n",
        "\tdef build(width, height, depth, classes):\n",
        "\t\n",
        "\t\tmodel = Sequential()\n",
        "\t\tinputShape = (height, width, depth)\n",
        "\t\tchanDim = -1\n",
        "\n",
        "\t\t# CONV => RELU => POOL\n",
        "\t\tmodel.add(SeparableConv2D(16, (7, 7), padding=\"same\",\n",
        "\t\t\tinput_shape=inputShape))\n",
        "\t\tmodel.add(Activation(\"relu\"))\n",
        "\t\tmodel.add(BatchNormalization(axis=chanDim))\n",
        "\t\tmodel.add(MaxPooling2D(pool_size=(2, 2)))\n",
        "\n",
        "\t\t# CONV => RELU => POOL\n",
        "\t\tmodel.add(SeparableConv2D(32, (3, 3), padding=\"same\"))\n",
        "\t\tmodel.add(Activation(\"relu\"))\n",
        "\t\tmodel.add(BatchNormalization(axis=chanDim))\n",
        "\t\tmodel.add(MaxPooling2D(pool_size=(2, 2)))\n",
        "  \n",
        "    # (CONV => RELU) * 2 => POOL\n",
        "\t\tmodel.add(SeparableConv2D(64, (3, 3), padding=\"same\"))\n",
        "\t\tmodel.add(Activation(\"relu\"))\n",
        "\t\tmodel.add(BatchNormalization(axis=chanDim))\n",
        "\t\tmodel.add(SeparableConv2D(64, (3, 3), padding=\"same\"))\n",
        "\t\tmodel.add(Activation(\"relu\"))\n",
        "\t\tmodel.add(BatchNormalization(axis=chanDim))\n",
        "\t\tmodel.add(MaxPooling2D(pool_size=(2, 2)))\n",
        "\n",
        "\t\t# first set of FC => RELU layers\n",
        "\t\tmodel.add(Flatten())\n",
        "\t\tmodel.add(Dense(128))\n",
        "\t\tmodel.add(Activation(\"relu\"))\n",
        "\t\tmodel.add(BatchNormalization())\n",
        "\t\tmodel.add(Dropout(0.5))"
      ],
      "metadata": {
        "id": "tuHUxYYMCqb_"
      },
      "execution_count": 2,
      "outputs": []
    },
    {
      "cell_type": "code",
      "source": [
        "FIRE_PATH = '/content/fire_detection/Fire Dataset'\n",
        "NON_FIRE_PATH = '/content/fire_detection/Non-Fire Dataset'\n",
        "\n",
        "CLASSES = [\"Fire\", \"Non-Fire\"]\n",
        "\n",
        "TRAIN_SPLIT = 0.75\n",
        "TEST_SPLIT = 0.25\n",
        "\n",
        "INIT_LR = 1e-3\n",
        "BATCH_SIZE = 16\n",
        "NUM_EPOCHS = 90\n",
        "\n",
        "SAMPLE_SIZE = 50"
      ],
      "metadata": {
        "id": "G2CoY4nfCz4p"
      },
      "execution_count": 5,
      "outputs": []
    },
    {
      "cell_type": "code",
      "source": [
        "from tensorflow.keras.preprocessing.image import ImageDataGenerator\n",
        "from tensorflow.keras.optimizers import Adam\n",
        "from tensorflow.keras.utils import to_categorical\n",
        "from sklearn.model_selection import train_test_split\n",
        "from sklearn.metrics import classification_report\n",
        "from imutils import paths\n",
        "import matplotlib\n",
        "import matplotlib.pyplot as plt\n",
        "import numpy as np\n",
        "import argparse\n",
        "import cv2\n",
        "import sys\n",
        "\n",
        "def load_dataset(dataset_path):\n",
        "\n",
        "  image_paths = list(paths.list_images(dataset_path))\n",
        "  image_data = []\n",
        "\n",
        "  for image_path in image_paths:\n",
        "    cur_image = cv2.imread(image_path)\n",
        "    cur_image = cv2.resize(cur_image, (128, 128))\n",
        "  \n",
        "    image_data.append(cur_image)\n",
        "\n",
        "  return np.array(image_data, dtype=\"float32\")\n",
        "\n",
        "print(\"Loading data...\")\n",
        "fire_data = load_dataset(FIRE_PATH)\n",
        "non_fire_data = load_dataset(NON_FIRE_PATH)\n",
        "print(\"Complete!\")"
      ],
      "metadata": {
        "id": "-ViQDvyeQsOA"
      },
      "execution_count": 4,
      "outputs": []
    },
    {
      "cell_type": "code",
      "source": [
        "fire_labels = np.ones((fire_data.shape[0],))\n",
        "non_fire_labels = np.zeros((non_fire_data.shape[0],))"
      ],
      "metadata": {
        "id": "5MT9YMm5EFZY"
      },
      "execution_count": null,
      "outputs": []
    },
    {
      "cell_type": "code",
      "source": [
        "# fire_data? = np.vstack([fire_data, non_fire_data])\n",
        "labels = np.hstack([fire_labels, non_fire_labels])"
      ],
      "metadata": {
        "id": "uM5gKVXjEYU8"
      },
      "execution_count": null,
      "outputs": []
    }
  ]
}