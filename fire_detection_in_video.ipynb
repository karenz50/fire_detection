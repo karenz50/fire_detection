{
  "nbformat": 4,
  "nbformat_minor": 0,
  "metadata": {
    "colab": {
      "provenance": []
    },
    "kernelspec": {
      "name": "python3",
      "display_name": "Python 3"
    },
    "language_info": {
      "name": "python"
    }
  },
  "cells": [
    {
      "cell_type": "code",
      "source": [
        "import cv2\n",
        "import os\n",
        "import time\n",
        "import numpy as np\n",
        "from google.colab.patches import cv2_imshow\n",
        "import matplotlib.pyplot as plt\n",
        "from keras.models import load_model"
      ],
      "metadata": {
        "id": "PBRgCO7OG35w"
      },
      "execution_count": 2,
      "outputs": []
    },
    {
      "cell_type": "code",
      "execution_count": null,
      "metadata": {
        "id": "o7BZD91xNUI5"
      },
      "outputs": [],
      "source": [
        "def load_video(file_name):\n",
        "  cam = cv2.VideoCapture(\"/content/\" + file_name)\n",
        "\n",
        "  currentframe = 0\n",
        "  data = []\n",
        "\n",
        "  while True:\n",
        "\n",
        "    ret, frame = cam.read()\n",
        "\n",
        "    if ret:\n",
        "\n",
        "      image = cv2.resize(frame, (128, 128))\n",
        "      image = cv2.cvtColor(image, cv2.COLOR_BGR2RGB)\n",
        "\n",
        "      data.append(image)\n",
        "\n",
        "    else:\n",
        "      break\n",
        "  \n",
        "  data = np.array(data, dtype=\"float32\")\n",
        "\n",
        "  cam.release()\n",
        "  cv2.destroyAllWindows()\n",
        "\n",
        "  return data / 255"
      ]
    },
    {
      "cell_type": "code",
      "source": [
        "def make_predictions(data, model_file):\n",
        "\n",
        "  BATCH_SIZE = (data.size) / 10\n",
        "  model = load_model('/content/' + model_file)\n",
        "  predictions = model.predict(data, batch_size = BATCH_SIZE)\n",
        "\n",
        "  return predictions"
      ],
      "metadata": {
        "id": "ig4Tzf0zPOeS"
      },
      "execution_count": null,
      "outputs": []
    },
    {
      "cell_type": "code",
      "source": [
        "def is_fire(predictions):\n",
        "  fire_count = 0\n",
        "  for cur_frame in predictions:\n",
        "    if cur_frame[1] > 0.5:\n",
        "        fire_count += 1\n",
        "\n",
        "  if fire_count >= 20:\n",
        "    return \"FIRE!\"\n",
        "  else:\n",
        "    return \"No Fire\""
      ],
      "metadata": {
        "id": "Xi6k9clXWdeo"
      },
      "execution_count": null,
      "outputs": []
    },
    {
      "cell_type": "code",
      "source": [
        "if __name__ == \"__main__\":\n",
        "  file_name = \"test_video.mp4\"\n",
        "  model_file = \"fire_model.h5\"\n",
        "  data = load_video(file_name)\n",
        "  predictions = make_predictions(data, model_file)\n",
        "  print(is_fire(predictions))"
      ],
      "metadata": {
        "id": "zp9LjDYmZ2j0"
      },
      "execution_count": null,
      "outputs": []
    }
  ]
}