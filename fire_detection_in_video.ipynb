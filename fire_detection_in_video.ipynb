{
  "cells": [
    {
      "cell_type": "code",
      "source": [
        "import cv2\n",
        "import os\n",
        "import time\n",
        "import numpy as np\n",
        "from google.colab.patches import cv2_imshow\n",
        "import matplotlib.pyplot as plt\n",
        "from keras.models import load_model"
      ],
      "metadata": {
        "id": "PBRgCO7OG35w"
      },
      "execution_count": null,
      "outputs": []
    },
    {
      "cell_type": "code",
      "execution_count": null,
      "metadata": {
        "id": "o7BZD91xNUI5"
      },
      "outputs": [],
      "source": [
        "def load_video(file_name):\n",
        "  cam = cv2.VideoCapture(\"/content/test_video.mp4\")\n",
        "\n",
        "  currentframe = 0\n",
        "  data = []\n",
        "\n",
        "  while(True):\n",
        "\n",
        "    ret,frame = cam.read()\n",
        "\n",
        "    if ret:\n",
        "\n",
        "      image = cv2.resize(frame, (128, 128))\n",
        "      image = cv2.cvtColor(image, cv2.COLOR_BGR2RGB)\n",
        "\n",
        "      data.append(image)\n",
        "\n",
        "    else:\n",
        "      break\n",
        "  \n",
        "  data = np.array(data, dtype=\"float32\")\n",
        "\n",
        "  cam.release()\n",
        "  cv2.destroyAllWindows()\n",
        "\n",
        "  return data /= 255"
      ]
    }
  ],
  "metadata": {
    "colab": {
      "provenance": []
    },
    "kernelspec": {
      "name": "python3",
      "display_name": "Python 3"
    },
    "language_info": {
      "name": "python"
    }
  },
  "nbformat": 4,
  "nbformat_minor": 0
}